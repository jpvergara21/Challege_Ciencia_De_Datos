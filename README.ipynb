{
  "nbformat": 4,
  "nbformat_minor": 0,
  "metadata": {
    "colab": {
      "provenance": []
    },
    "kernelspec": {
      "name": "python3",
      "display_name": "Python 3"
    },
    "language_info": {
      "name": "python"
    }
  },
  "cells": [
    {
      "cell_type": "markdown",
      "source": [
        "# Telecom X - Análisis de Evasión de Clientes (Churn)\n",
        "\n",
        "## Descripción del Proyecto\n",
        "\n",
        "Este proyecto tiene como objetivo analizar la tasa de evasión (churn) de clientes en Telecom X. A través de un proceso riguroso de extracción, transformación, limpieza y análisis exploratorio de datos, buscamos identificar patrones y factores que influyen en la cancelación del servicio. Esto facilitará la creación de modelos predictivos y estrategias para reducir la pérdida de clientes.\n",
        "\n",
        "---\n",
        "\n",
        "## Contenido del Proyecto\n",
        "\n",
        "- **Extracción de datos**: Importación de datos desde una API en formato JSON.\n",
        "- **Preparación y limpieza**: ETL para normalizar y corregir inconsistencias en los datos.\n",
        "- **Análisis descriptivo**: Estadísticas básicas y análisis de variables numéricas y categóricas.\n",
        "- **Visualización**: Gráficos para comprender mejor la distribución de evasión según diferentes variables.\n",
        "- **Insights iniciales**: Identificación de factores clave asociados a la evasión.\n",
        "\n",
        "---\n",
        "\n",
        "## Tecnologías y Dependencias\n",
        "\n",
        "- Python 3.8 o superior\n",
        "- Librerías Python utilizadas:\n",
        "  - pandas\n",
        "  - numpy\n",
        "  - matplotlib\n",
        "  - seaborn\n",
        "  - requests\n",
        "\n",
        "---\n",
        "\n",
        "## Instrucciones para ejecutar el proyecto\n",
        "\n",
        "1. **Clonar repositorio**  \n",
        "   ```bash\n",
        "   git clone https://github.com/tu_usuario/telecomx-churn-analysis.git\n",
        "   cd telecomx-churn-analysis\n"
      ],
      "metadata": {
        "id": "DKNMPurNLKDi"
      }
    }
  ]
}